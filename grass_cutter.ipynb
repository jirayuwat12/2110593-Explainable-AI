{
 "cells": [
  {
   "cell_type": "code",
   "execution_count": 36,
   "metadata": {},
   "outputs": [],
   "source": [
    "from dataclasses import dataclass\n",
    "\n",
    "@dataclass(frozen=True)\n",
    "class GrassCutterState:\n",
    "    size: int\n",
    "    grass_position: tuple[tuple[int, int]]\n",
    "    current_row: int = 0\n",
    "    current_col: int = 0\n",
    "    move_times: int = 0\n",
    "\n",
    "    def __repr__(self):\n",
    "        state_array = []\n",
    "        for row in range(self.size):\n",
    "            row_array = []\n",
    "            for col in range(self.size):\n",
    "                has_grass = (row, col) in self.grass_position\n",
    "                is_robot = (row, col) == (self.current_row, self.current_col)\n",
    "                if has_grass and is_robot:\n",
    "                    row_array.append('R')\n",
    "                elif has_grass:\n",
    "                    row_array.append('G')\n",
    "                elif is_robot:\n",
    "                    row_array.append('r')\n",
    "                else:\n",
    "                    row_array.append(' ')\n",
    "            state_array.append(row_array)\n",
    "        return '\\n'.join(['|'.join(row) for row in state_array]) + f'\\nMove times: {self.move_times}'\n",
    "    \n",
    "    def __hash__(self):\n",
    "        return hash((self.size, self.grass_position, self.current_row, self.current_col))\n",
    "    \n",
    "    def __eq__(self, other):\n",
    "        return self.__hash__() == other.__hash__()\n",
    "    \n",
    "    def __lt__(self, other):\n",
    "        return self.move_times < other.move_times"
   ]
  },
  {
   "cell_type": "code",
   "execution_count": 16,
   "metadata": {},
   "outputs": [],
   "source": [
    "# Create environment\n",
    "import random\n",
    "\n",
    "class GrassCutterEnvironment:\n",
    "\n",
    "    move_str_to_delta = {\n",
    "        'U': (-1, 0),\n",
    "        'D': (1, 0),\n",
    "        'L': (0, -1),\n",
    "        'R': (0, 1)\n",
    "    }\n",
    "    \n",
    "    @classmethod\n",
    "    def create_init_state(cls, size: int, random_seed=4242) -> GrassCutterState:\n",
    "        random.seed(random_seed)\n",
    "        grass_position = tuple([(random.randint(0, size-1), random.randint(0, size-1)) for _ in range(size)])\n",
    "        return GrassCutterState(size, grass_position)\n",
    "    \n",
    "    @classmethod\n",
    "    def get_valid_moves(cls, state: GrassCutterState) -> list[str]:\n",
    "        valid_moves = ['C']\n",
    "        if state.current_row > 0:\n",
    "            valid_moves.append('U')\n",
    "        if state.current_row < state.size - 1:\n",
    "            valid_moves.append('D')\n",
    "        if state.current_col > 0:\n",
    "            valid_moves.append('L')\n",
    "        if state.current_col < state.size - 1:\n",
    "            valid_moves.append('R')\n",
    "        return valid_moves\n",
    "    \n",
    "    @classmethod\n",
    "    def apply_move(cls, state: GrassCutterState, move: str) -> GrassCutterState:\n",
    "        if move == 'C':\n",
    "            new_grass_position = tuple([pos for pos in state.grass_position if pos != (state.current_row, state.current_col)])\n",
    "            return GrassCutterState(state.size, new_grass_position, state.current_row, state.current_col, state.move_times + 1)\n",
    "        else:\n",
    "            delta_row, delta_col = cls.move_str_to_delta[move]\n",
    "            new_row = state.current_row + delta_row\n",
    "            new_col = state.current_col + delta_col\n",
    "            return GrassCutterState(state.size, state.grass_position, new_row, new_col, state.move_times + 1)\n",
    "        \n",
    "    @classmethod\n",
    "    def is_terminal(cls, state: GrassCutterState) -> bool:\n",
    "        return len(state.grass_position) == 0\n",
    "    "
   ]
  },
  {
   "cell_type": "code",
   "execution_count": 26,
   "metadata": {},
   "outputs": [],
   "source": [
    "import time\n",
    "from concurrent.futures import ThreadPoolExecutor\n",
    "\n",
    "def run_simulation(size: int, total_games: int, search_strategy: callable) -> None:\n",
    "    max_move_to_end = float('-inf')\n",
    "    min_move_to_end = float('inf')\n",
    "    sum_move_to_end = 0\n",
    "    sum_time_taken = 0\n",
    "    end_game_count = 0\n",
    "\n",
    "    def run_simulation_single(i):\n",
    "        state = GrassCutterEnvironment.create_init_state(size, random_seed=i)\n",
    "        \n",
    "        start_time = time.time()\n",
    "        end_state = search_strategy(state)\n",
    "        end_time = time.time()\n",
    "\n",
    "        return end_state, end_time - start_time\n",
    "    \n",
    "    with ThreadPoolExecutor() as executor:\n",
    "        end_states = list(executor.map(run_simulation_single, range(total_games)))\n",
    "    \n",
    "    for end_state, time_taken in end_states:\n",
    "        if GrassCutterEnvironment.is_terminal(end_state):\n",
    "            end_game_count += 1\n",
    "            max_move_to_end = max(max_move_to_end, end_state.move_times)\n",
    "            min_move_to_end = min(min_move_to_end, end_state.move_times)\n",
    "            sum_move_to_end += end_state.move_times\n",
    "            sum_time_taken += time_taken\n",
    "\n",
    "    print('Random search result:')\n",
    "    print(f'\\t      Total games: {total_games:,}')\n",
    "    print(f'\\t Total end states: {end_game_count:,}({end_game_count/total_games:.2%}%)')\n",
    "    print(f'\\t Max moves to end: {max_move_to_end:,}')\n",
    "    print(f'\\t Min moves to end: {min_move_to_end:,}')\n",
    "    print(f'\\tMean moves to end: {sum_move_to_end / end_game_count:,.2f}')\n",
    "    print(f'\\t Total time taken: {sum_time_taken:,.4f} seconds')\n",
    "    print(f'\\t   Avg time taken: {sum_time_taken / end_game_count:,.4f} seconds')"
   ]
  },
  {
   "cell_type": "markdown",
   "metadata": {},
   "source": [
    "Use random search\n",
    "- select random move from available moves\n",
    "- not has any intelligence"
   ]
  },
  {
   "cell_type": "code",
   "execution_count": 33,
   "metadata": {},
   "outputs": [
    {
     "name": "stdout",
     "output_type": "stream",
     "text": [
      "Random search result:\n",
      "\t      Total games: 10,000\n",
      "\t Total end states: 10,000(100.00%%)\n",
      "\t Max moves to end: 1,785\n",
      "\t Min moves to end: 14\n",
      "\tMean moves to end: 357.26\n",
      "\t Total time taken: 52.6257 seconds\n",
      "\t   Avg time taken: 0.0053 seconds\n"
     ]
    }
   ],
   "source": [
    "def random_search(state: GrassCutterState, verbose: bool = False) -> GrassCutterState:\n",
    "    while not GrassCutterEnvironment.is_terminal(state):\n",
    "        valid_moves = GrassCutterEnvironment.get_valid_moves(state)\n",
    "        move = random.choice(valid_moves)\n",
    "        state = GrassCutterEnvironment.apply_move(state, move)\n",
    "        if verbose:\n",
    "            print(state)\n",
    "            print('----------------')\n",
    "    return state\n",
    "\n",
    "run_simulation(5, 10000, random_search)"
   ]
  },
  {
   "cell_type": "markdown",
   "metadata": {},
   "source": [
    "Use BFS \n",
    "- guarantee to find the shortest move to win\n",
    "- but it is slow\n",
    "  - has no condition -> need to search all possible moves\n",
    "  - due to this problem, I will\n",
    "    1. limit the depth of BFS to 10\n",
    "    2. only simulate for 60 times"
   ]
  },
  {
   "cell_type": "code",
   "execution_count": 29,
   "metadata": {},
   "outputs": [
    {
     "name": "stdout",
     "output_type": "stream",
     "text": [
      "Random search result:\n",
      "\t      Total games: 60\n",
      "\t Total end states: 1(1.67%%)\n",
      "\t Max moves to end: 9\n",
      "\t Min moves to end: 9\n",
      "\tMean moves to end: 9.00\n",
      "\t Total time taken: 6.4652 seconds\n",
      "\t   Avg time taken: 6.4652 seconds\n"
     ]
    }
   ],
   "source": [
    "from collections import deque\n",
    "from functools import partial\n",
    "\n",
    "def bfs_search(state: GrassCutterState, max_move: int, verbose: bool = False) -> GrassCutterState:\n",
    "    queue = deque([state])\n",
    "    while queue:\n",
    "        state = queue.popleft()\n",
    "        if GrassCutterEnvironment.is_terminal(state):\n",
    "            return state\n",
    "        valid_moves = GrassCutterEnvironment.get_valid_moves(state)\n",
    "        for move in valid_moves:\n",
    "            new_state = GrassCutterEnvironment.apply_move(state, move)\n",
    "            if new_state.move_times <= max_move:\n",
    "                queue.append(new_state)\n",
    "        if verbose:\n",
    "            print(state)\n",
    "            print('----------------')\n",
    "    return state\n",
    "\n",
    "bfs_search = partial(bfs_search, max_move=10)\n",
    "run_simulation(5, 60, bfs_search)"
   ]
  },
  {
   "cell_type": "markdown",
   "metadata": {},
   "source": [
    "Use BFS but with some optimization\n",
    "- guarantee to find the shortest move to win\n",
    "- optimization\n",
    "  1. will not simulate the same state twice"
   ]
  },
  {
   "cell_type": "code",
   "execution_count": 34,
   "metadata": {},
   "outputs": [
    {
     "name": "stdout",
     "output_type": "stream",
     "text": [
      "Random search result:\n",
      "\t      Total games: 10,000\n",
      "\t Total end states: 10,000(100.00%%)\n",
      "\t Max moves to end: 21\n",
      "\t Min moves to end: 5\n",
      "\tMean moves to end: 14.46\n",
      "\t Total time taken: 279.7888 seconds\n",
      "\t   Avg time taken: 0.0280 seconds\n"
     ]
    }
   ],
   "source": [
    "from collections import deque\n",
    "from functools import partial\n",
    "\n",
    "def bfs_search_optimized(state: GrassCutterState, max_move: int, verbose: bool = False) -> GrassCutterState:\n",
    "    visited_states = set()\n",
    "    queue = deque([state])\n",
    "    while queue:\n",
    "        state = queue.popleft()\n",
    "        # Check if state is terminal\n",
    "        if GrassCutterEnvironment.is_terminal(state):\n",
    "            return state\n",
    "        # Add new states to the queue\n",
    "        valid_moves = GrassCutterEnvironment.get_valid_moves(state)\n",
    "        for move in valid_moves:\n",
    "            new_state = GrassCutterEnvironment.apply_move(state, move)\n",
    "            if new_state.move_times <= max_move:\n",
    "                # Check if new state is visited, if not add to queue and visited set\n",
    "                if new_state not in visited_states:\n",
    "                    visited_states.add(new_state)\n",
    "                    queue.append(new_state)\n",
    "        if verbose:\n",
    "            print(state)\n",
    "            print('----------------')\n",
    "    return state\n",
    "\n",
    "bfs_search_optimized = partial(bfs_search_optimized, max_move=float('inf'))\n",
    "run_simulation(5, 10000, bfs_search_optimized)"
   ]
  },
  {
   "cell_type": "markdown",
   "metadata": {},
   "source": [
    "Use grass amount quality function\n",
    "- optimization\n",
    "  1. will not simulate the same state twice\n",
    "  2. use quality function to select the best move to simulate"
   ]
  },
  {
   "cell_type": "code",
   "execution_count": 47,
   "metadata": {},
   "outputs": [
    {
     "name": "stdout",
     "output_type": "stream",
     "text": [
      "Random search result:\n",
      "\t      Total games: 10,000\n",
      "\t Total end states: 10,000(100.00%%)\n",
      "\t Max moves to end: 63\n",
      "\t Min moves to end: 23\n",
      "\tMean moves to end: 42.11\n",
      "\t Total time taken: 178.6515 seconds\n",
      "\t   Avg time taken: 0.0179 seconds\n"
     ]
    }
   ],
   "source": [
    "# Import priority queue\n",
    "from queue import PriorityQueue\n",
    "\n",
    "def inverse_grass_amount_quality_function(state: GrassCutterState) -> int:\n",
    "    return - len(state.grass_position)\n",
    "\n",
    "def quality_based_search(state: GrassCutterState, quality_function: callable, verbose: bool = False) -> GrassCutterState:\n",
    "    visited_states = set()\n",
    "    queue = PriorityQueue()\n",
    "    queue.put((-quality_function(state), state))\n",
    "    while not queue.empty():\n",
    "        state = queue.get()[1]\n",
    "        # Check if state is terminal\n",
    "        if GrassCutterEnvironment.is_terminal(state):\n",
    "            return state\n",
    "        # Add new states to the queue\n",
    "        valid_moves = GrassCutterEnvironment.get_valid_moves(state)\n",
    "        for move in valid_moves:\n",
    "            new_state = GrassCutterEnvironment.apply_move(state, move)\n",
    "            if new_state not in visited_states:\n",
    "                visited_states.add(new_state)\n",
    "                queue.put((-quality_function(new_state), new_state))\n",
    "        if verbose:\n",
    "            print(state)\n",
    "            print('----------------')\n",
    "    return state\n",
    "\n",
    "quality_based_search = partial(quality_based_search, quality_function=inverse_grass_amount_quality_function)\n",
    "run_simulation(10, 10000, quality_based_search)"
   ]
  },
  {
   "cell_type": "markdown",
   "metadata": {},
   "source": [
    "Use grase amount and move amount quality function\n",
    "- optimization\n",
    "  1. will not simulate the same state twice\n",
    "  2. use quality function to select the best move to simulate"
   ]
  },
  {
   "cell_type": "code",
   "execution_count": null,
   "metadata": {},
   "outputs": [
    {
     "name": "stdout",
     "output_type": "stream",
     "text": [
      "Random search result:\n",
      "\t      Total games: 100\n",
      "\t Total end states: 100(100.00%%)\n",
      "\t Max moves to end: 47\n",
      "\t Min moves to end: 28\n",
      "\tMean moves to end: 39.42\n",
      "\t Total time taken: 980.6797 seconds\n",
      "\t   Avg time taken: 9.8068 seconds\n"
     ]
    }
   ],
   "source": [
    "# Import priority queue\n",
    "from queue import PriorityQueue\n",
    "\n",
    "def optimized_quality_function(state: GrassCutterState) -> int:\n",
    "    # Compute inverse grass amount quality function\n",
    "    inverse_grass_amount = - len(state.grass_position)\n",
    "\n",
    "    # Compute inverse move times quality function\n",
    "    inverse_move_times = - state.move_times\n",
    "\n",
    "    return inverse_grass_amount + inverse_move_times * 20\n",
    "    \n",
    "\n",
    "def quality_based_search(state: GrassCutterState, quality_function: callable, verbose: bool = False) -> GrassCutterState:\n",
    "    visited_states = set()\n",
    "    queue = PriorityQueue()\n",
    "    queue.put((-quality_function(state), state))\n",
    "    while not queue.empty():\n",
    "        state = queue.get()[1]\n",
    "        # Check if state is terminal\n",
    "        if GrassCutterEnvironment.is_terminal(state):\n",
    "            return state\n",
    "        # Add new states to the queue\n",
    "        valid_moves = GrassCutterEnvironment.get_valid_moves(state)\n",
    "        for move in valid_moves:\n",
    "            new_state = GrassCutterEnvironment.apply_move(state, move)\n",
    "            if new_state not in visited_states:\n",
    "                visited_states.add(new_state)\n",
    "                queue.put((-quality_function(new_state), new_state))\n",
    "        if verbose:\n",
    "            print(state)\n",
    "            print('----------------')\n",
    "    return state\n",
    "\n",
    "quality_based_search = partial(quality_based_search, quality_function=optimized_quality_function)\n",
    "run_simulation(10, 100, quality_based_search)"
   ]
  },
  {
   "cell_type": "code",
   "execution_count": null,
   "metadata": {},
   "outputs": [],
   "source": []
  }
 ],
 "metadata": {
  "kernelspec": {
   "display_name": "explainable-ai",
   "language": "python",
   "name": "python3"
  },
  "language_info": {
   "codemirror_mode": {
    "name": "ipython",
    "version": 3
   },
   "file_extension": ".py",
   "mimetype": "text/x-python",
   "name": "python",
   "nbconvert_exporter": "python",
   "pygments_lexer": "ipython3",
   "version": "3.12.8"
  }
 },
 "nbformat": 4,
 "nbformat_minor": 2
}
