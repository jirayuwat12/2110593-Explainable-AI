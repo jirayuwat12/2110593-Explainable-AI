{
 "cells": [
  {
   "cell_type": "code",
   "execution_count": 1,
   "metadata": {
    "colab": {
     "base_uri": "https://localhost:8080/"
    },
    "id": "QxlmIV_ZOEba",
    "outputId": "54c526d8-bbc6-4c0f-f34e-46910add1893"
   },
   "outputs": [
    {
     "name": "stdout",
     "output_type": "stream",
     "text": [
      "Note: you may need to restart the kernel to use updated packages.\n"
     ]
    }
   ],
   "source": [
    "%pip install -qU pomegranate"
   ]
  },
  {
   "cell_type": "code",
   "execution_count": null,
   "metadata": {
    "colab": {
     "base_uri": "https://localhost:8080/"
    },
    "id": "4VBwbPUA5u9M",
    "outputId": "0989f5a7-892c-43ff-b0b7-fa0c9f475a0c"
   },
   "outputs": [],
   "source": [
    "from pomegranate.distributions import Categorical\n",
    "from pomegranate.hmm import DenseHMM\n",
    "import numpy as np\n",
    "\n",
    "# Probabilities that professor is late given bad traffic\n",
    "probs_given_bad = [[0.8, 0.2]]\n",
    "bad = Categorical(probs=probs_given_bad)\n",
    "# Probabilities that professor is on-time given good traffic\n",
    "probs_given_good = [[0.1, 0.9]]\n",
    "good = Categorical(probs=probs_given_good)\n",
    "\n",
    "states = [bad, good]\n",
    "\n",
    "#                     bad  good\n",
    "prob_start_traffic = [0.8, 0.2]\n",
    "edges = [\n",
    "    [0.7, 0.3], # bad -> bad, good\n",
    "    [0.3, 0.7], # good -> bad, good\n",
    "]\n",
    "\n",
    "model = DenseHMM(states, edges=edges, starts=prob_start_traffic)"
   ]
  },
  {
   "cell_type": "code",
   "execution_count": null,
   "metadata": {},
   "outputs": [
    {
     "data": {
      "text/plain": [
       "tensor([[[0.3818, 0.6182],\n",
       "         [0.2656, 0.7344],\n",
       "         [0.7362, 0.2638],\n",
       "         [0.2743, 0.7257]]])"
      ]
     },
     "execution_count": 18,
     "metadata": {},
     "output_type": "execute_result"
    }
   ],
   "source": [
    "model.predict_proba(np.array([\n",
    "    [\n",
    "        [1], [1], [0], [1]\n",
    "    ]\n",
    "]))"
   ]
  }
 ],
 "metadata": {
  "colab": {
   "provenance": []
  },
  "kernelspec": {
   "display_name": "explainable-ai",
   "language": "python",
   "name": "python3"
  },
  "language_info": {
   "codemirror_mode": {
    "name": "ipython",
    "version": 3
   },
   "file_extension": ".py",
   "mimetype": "text/x-python",
   "name": "python",
   "nbconvert_exporter": "python",
   "pygments_lexer": "ipython3",
   "version": "3.12.8"
  }
 },
 "nbformat": 4,
 "nbformat_minor": 0
}
